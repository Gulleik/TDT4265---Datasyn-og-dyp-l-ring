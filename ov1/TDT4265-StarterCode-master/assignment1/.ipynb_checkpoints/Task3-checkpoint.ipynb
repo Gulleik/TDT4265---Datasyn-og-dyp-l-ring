{
 "cells": [
  {
   "cell_type": "code",
   "execution_count": 1,
   "metadata": {},
   "outputs": [],
   "source": [
    "import numpy as np\n",
    "import utils\n",
    "import matplotlib.pyplot as plt\n",
    "from task2a import pre_process_images\n",
    "from trainer import BaseTrainer\n",
    "from task3a import cross_entropy_loss, SoftmaxModel, one_hot_encode\n",
    "np.random.seed(0)"
   ]
  },
  {
   "cell_type": "code",
   "execution_count": 38,
   "metadata": {},
   "outputs": [],
   "source": [
    "def calculate_accuracy(X: np.ndarray, targets: np.ndarray, model: SoftmaxModel) -> float:\n",
    "    \"\"\"\n",
    "    Args:\n",
    "        X: images of shape [batch size, 785]\n",
    "        targets: labels/targets of each image of shape: [batch size, 10]\n",
    "        model: model of class SoftmaxModel\n",
    "    Returns:\n",
    "        Accuracy (float)\n",
    "    \"\"\"\n",
    "    outputs = model.forward(X)\n",
    "    max_outputs = np.argmax(outputs,axis = 1) \n",
    "    max_targets = np.argmax(targets,axis = 1) \n",
    "\n",
    "    correct = outputs.shape[0] - np.count_nonzero(max_outputs - max_targets)\n",
    "    accuracy = correct/X.shape[0]\n",
    "    return accuracy\n"
   ]
  },
  {
   "cell_type": "code",
   "execution_count": 39,
   "metadata": {},
   "outputs": [],
   "source": [
    "class SoftmaxTrainer(BaseTrainer):\n",
    "\n",
    "    def train_step(self, X_batch: np.ndarray, Y_batch: np.ndarray):\n",
    "        \"\"\"\n",
    "        Perform forward, backward and gradient descent step here.\n",
    "        The function is called once for every batch (see trainer.py) to perform the train step.\n",
    "        The function returns the mean loss value which is then automatically logged in our variable self.train_history.\n",
    "\n",
    "        Args:\n",
    "            X: one batch of images\n",
    "            Y: one batch of labels\n",
    "        Returns:\n",
    "            loss value (float) on batch\n",
    "        \"\"\"\n",
    "        output = self.model.forward(X_batch)\n",
    "        self.model.backward(X_batch, output, Y_batch)\n",
    "        self.model.w -= self.learning_rate * self.model.grad\n",
    "\n",
    "        loss = cross_entropy_loss(Y_batch, output)\n",
    "        return loss\n",
    "\n",
    "    def validation_step(self):\n",
    "        \"\"\"\n",
    "        Perform a validation step to evaluate the model at the current step for the validation set.\n",
    "        Also calculates the current accuracy of the model on the train set.\n",
    "        Returns:\n",
    "            loss (float): cross entropy loss over the whole dataset\n",
    "            accuracy_ (float): accuracy over the whole dataset\n",
    "        Returns:\n",
    "            loss value (float) on batch\n",
    "        \"\"\"\n",
    "        # NO NEED TO CHANGE THIS FUNCTION\n",
    "        logits = self.model.forward(self.X_val)\n",
    "        loss = cross_entropy_loss(Y_val, logits)\n",
    "\n",
    "        accuracy_train = calculate_accuracy(\n",
    "            X_train, Y_train, self.model)\n",
    "        accuracy_val = calculate_accuracy(\n",
    "            X_val, Y_val, self.model)\n",
    "        return loss, accuracy_train, accuracy_val"
   ]
  },
  {
   "cell_type": "code",
   "execution_count": 40,
   "metadata": {
    "scrolled": true
   },
   "outputs": [
    {
     "name": "stdout",
     "output_type": "stream",
     "text": [
      "Train shape: X: (20000, 784), Y: (20000, 1)\n",
      "Validation shape: X: (10000, 784), Y: (10000, 1)\n"
     ]
    },
    {
     "ename": "ValueError",
     "evalue": "operands could not be broadcast together with shapes (20000,) (20000,10) ",
     "output_type": "error",
     "traceback": [
      "\u001b[1;31m---------------------------------------------------------------------------\u001b[0m",
      "\u001b[1;31mValueError\u001b[0m                                Traceback (most recent call last)",
      "\u001b[1;32m<ipython-input-40-ec3decf30bbf>\u001b[0m in \u001b[0;36m<module>\u001b[1;34m\u001b[0m\n\u001b[0;32m     23\u001b[0m         \u001b[0mX_train\u001b[0m\u001b[1;33m,\u001b[0m \u001b[0mY_train\u001b[0m\u001b[1;33m,\u001b[0m \u001b[0mX_val\u001b[0m\u001b[1;33m,\u001b[0m \u001b[0mY_val\u001b[0m\u001b[1;33m,\u001b[0m\u001b[1;33m\u001b[0m\u001b[1;33m\u001b[0m\u001b[0m\n\u001b[0;32m     24\u001b[0m     )\n\u001b[1;32m---> 25\u001b[1;33m     \u001b[0mtrain_history\u001b[0m\u001b[1;33m,\u001b[0m \u001b[0mval_history\u001b[0m \u001b[1;33m=\u001b[0m \u001b[0mtrainer\u001b[0m\u001b[1;33m.\u001b[0m\u001b[0mtrain\u001b[0m\u001b[1;33m(\u001b[0m\u001b[0mnum_epochs\u001b[0m\u001b[1;33m)\u001b[0m\u001b[1;33m\u001b[0m\u001b[1;33m\u001b[0m\u001b[0m\n\u001b[0m\u001b[0;32m     26\u001b[0m \u001b[1;33m\u001b[0m\u001b[0m\n\u001b[0;32m     27\u001b[0m     print(\"Final Train Cross Entropy Loss:\",\n",
      "\u001b[1;32m~\\Documents\\Skuul\\datasyn\\TDT4265-StarterCode-master\\assignment1\\trainer.py\u001b[0m in \u001b[0;36mtrain\u001b[1;34m(self, num_epochs)\u001b[0m\n\u001b[0;32m     86\u001b[0m                 \u001b[1;31m# Track validation loss / accuracy every time we progress 20% through the dataset\u001b[0m\u001b[1;33m\u001b[0m\u001b[1;33m\u001b[0m\u001b[1;33m\u001b[0m\u001b[0m\n\u001b[0;32m     87\u001b[0m                 \u001b[1;32mif\u001b[0m \u001b[0mglobal_step\u001b[0m \u001b[1;33m%\u001b[0m \u001b[0mnum_steps_per_val\u001b[0m \u001b[1;33m==\u001b[0m \u001b[1;36m0\u001b[0m\u001b[1;33m:\u001b[0m\u001b[1;33m\u001b[0m\u001b[1;33m\u001b[0m\u001b[0m\n\u001b[1;32m---> 88\u001b[1;33m                     \u001b[0mval_loss\u001b[0m\u001b[1;33m,\u001b[0m \u001b[0maccuracy_train\u001b[0m\u001b[1;33m,\u001b[0m \u001b[0maccuracy_val\u001b[0m \u001b[1;33m=\u001b[0m \u001b[0mself\u001b[0m\u001b[1;33m.\u001b[0m\u001b[0mvalidation_step\u001b[0m\u001b[1;33m(\u001b[0m\u001b[1;33m)\u001b[0m\u001b[1;33m\u001b[0m\u001b[1;33m\u001b[0m\u001b[0m\n\u001b[0m\u001b[0;32m     89\u001b[0m                     \u001b[0mtrain_history\u001b[0m\u001b[1;33m[\u001b[0m\u001b[1;34m\"accuracy\"\u001b[0m\u001b[1;33m]\u001b[0m\u001b[1;33m[\u001b[0m\u001b[0mglobal_step\u001b[0m\u001b[1;33m]\u001b[0m \u001b[1;33m=\u001b[0m \u001b[0maccuracy_train\u001b[0m\u001b[1;33m\u001b[0m\u001b[1;33m\u001b[0m\u001b[0m\n\u001b[0;32m     90\u001b[0m                     \u001b[0mval_history\u001b[0m\u001b[1;33m[\u001b[0m\u001b[1;34m\"loss\"\u001b[0m\u001b[1;33m]\u001b[0m\u001b[1;33m[\u001b[0m\u001b[0mglobal_step\u001b[0m\u001b[1;33m]\u001b[0m \u001b[1;33m=\u001b[0m \u001b[0mval_loss\u001b[0m\u001b[1;33m\u001b[0m\u001b[1;33m\u001b[0m\u001b[0m\n",
      "\u001b[1;32m<ipython-input-39-1c86ce80461a>\u001b[0m in \u001b[0;36mvalidation_step\u001b[1;34m(self)\u001b[0m\n\u001b[0;32m     35\u001b[0m \u001b[1;33m\u001b[0m\u001b[0m\n\u001b[0;32m     36\u001b[0m         accuracy_train = calculate_accuracy(\n\u001b[1;32m---> 37\u001b[1;33m             X_train, Y_train, self.model)\n\u001b[0m\u001b[0;32m     38\u001b[0m         accuracy_val = calculate_accuracy(\n\u001b[0;32m     39\u001b[0m             X_val, Y_val, self.model)\n",
      "\u001b[1;32m<ipython-input-38-6c3b68c56771>\u001b[0m in \u001b[0;36mcalculate_accuracy\u001b[1;34m(X, targets, model)\u001b[0m\n\u001b[0;32m     12\u001b[0m     \u001b[1;31m#max_targets = np.argmax(targets,axis = 1)\u001b[0m\u001b[1;33m\u001b[0m\u001b[1;33m\u001b[0m\u001b[1;33m\u001b[0m\u001b[0m\n\u001b[0;32m     13\u001b[0m \u001b[1;33m\u001b[0m\u001b[0m\n\u001b[1;32m---> 14\u001b[1;33m     \u001b[0mcorrect\u001b[0m \u001b[1;33m=\u001b[0m \u001b[0moutputs\u001b[0m\u001b[1;33m.\u001b[0m\u001b[0mshape\u001b[0m\u001b[1;33m[\u001b[0m\u001b[1;36m0\u001b[0m\u001b[1;33m]\u001b[0m \u001b[1;33m-\u001b[0m \u001b[0mnp\u001b[0m\u001b[1;33m.\u001b[0m\u001b[0mcount_nonzero\u001b[0m\u001b[1;33m(\u001b[0m\u001b[0mmax_outputs\u001b[0m \u001b[1;33m-\u001b[0m \u001b[0mtargets\u001b[0m\u001b[1;33m)\u001b[0m\u001b[1;33m\u001b[0m\u001b[1;33m\u001b[0m\u001b[0m\n\u001b[0m\u001b[0;32m     15\u001b[0m     \u001b[0maccuracy\u001b[0m \u001b[1;33m=\u001b[0m \u001b[0mcorrect\u001b[0m\u001b[1;33m/\u001b[0m\u001b[0mX\u001b[0m\u001b[1;33m.\u001b[0m\u001b[0mshape\u001b[0m\u001b[1;33m[\u001b[0m\u001b[1;36m0\u001b[0m\u001b[1;33m]\u001b[0m\u001b[1;33m\u001b[0m\u001b[1;33m\u001b[0m\u001b[0m\n\u001b[0;32m     16\u001b[0m     \u001b[1;32mreturn\u001b[0m \u001b[0maccuracy\u001b[0m\u001b[1;33m\u001b[0m\u001b[1;33m\u001b[0m\u001b[0m\n",
      "\u001b[1;31mValueError\u001b[0m: operands could not be broadcast together with shapes (20000,) (20000,10) "
     ]
    }
   ],
   "source": [
    "if __name__ == \"__main__\":\n",
    "    # hyperparameters DO NOT CHANGE IF NOT SPECIFIED IN ASSIGNMENT TEXT\n",
    "    num_epochs = 50\n",
    "    learning_rate = 0.01\n",
    "    batch_size = 128\n",
    "    l2_reg_lambda = 0\n",
    "    shuffle_dataset = True\n",
    "\n",
    "    # Load dataset\n",
    "    X_train, Y_train, X_val, Y_val = utils.load_full_mnist()\n",
    "    X_train = pre_process_images(X_train)\n",
    "    X_val = pre_process_images(X_val)\n",
    "    Y_train = one_hot_encode(Y_train, 10)\n",
    "    Y_val = one_hot_encode(Y_val, 10)\n",
    "\n",
    "    # ANY PARTS OF THE CODE BELOW THIS CAN BE CHANGED.\n",
    "\n",
    "    # Intialize model\n",
    "    model = SoftmaxModel(l2_reg_lambda)\n",
    "    # Train model\n",
    "    trainer = SoftmaxTrainer(\n",
    "        model, learning_rate, batch_size, shuffle_dataset,\n",
    "        X_train, Y_train, X_val, Y_val,\n",
    "    )\n",
    "    train_history, val_history = trainer.train(num_epochs)\n",
    "\n",
    "    print(\"Final Train Cross Entropy Loss:\",\n",
    "          cross_entropy_loss(Y_train, model.forward(X_train)))\n",
    "    print(\"Final Validation Cross Entropy Loss:\",\n",
    "          cross_entropy_loss(Y_val, model.forward(X_val)))\n",
    "    print(\"Final Train accuracy:\", calculate_accuracy(X_train, Y_train, model))\n",
    "    print(\"Final Validation accuracy:\", calculate_accuracy(X_val, Y_val, model))\n",
    "\n",
    "    plt.ylim([0.2, .6])\n",
    "    utils.plot_loss(train_history[\"loss\"],\n",
    "                    \"Training Loss\", npoints_to_average=10)\n",
    "    utils.plot_loss(val_history[\"loss\"], \"Validation Loss\")\n",
    "    plt.legend()\n",
    "    plt.xlabel(\"Number of Training Steps\")\n",
    "    plt.ylabel(\"Cross Entropy Loss - Average\")\n",
    "    plt.savefig(\"task3b_softmax_train_loss.png\")\n",
    "    plt.show()\n",
    "\n",
    "    # Plot accuracy\n",
    "    plt.ylim([0.89, .93])\n",
    "    utils.plot_loss(train_history[\"accuracy\"], \"Training Accuracy\")\n",
    "    utils.plot_loss(val_history[\"accuracy\"], \"Validation Accuracy\")\n",
    "    plt.xlabel(\"Number of Training Steps\")\n",
    "    plt.ylabel(\"Accuracy\")\n",
    "    plt.legend()\n",
    "    plt.savefig(\"task3b_softmax_train_accuracy.png\")\n",
    "    plt.show()\n",
    "\n",
    "    # Train a model with L2 regularization (task 4b)\n",
    "\n",
    "\n",
    "\n",
    " "
   ]
  },
  {
   "cell_type": "markdown",
   "metadata": {},
   "source": [
    "### Task 4B"
   ]
  },
  {
   "cell_type": "code",
   "execution_count": 5,
   "metadata": {},
   "outputs": [
    {
     "name": "stdout",
     "output_type": "stream",
     "text": [
      "Early stopping at epoch 3\n"
     ]
    }
   ],
   "source": [
    "    model1 = SoftmaxModel(l2_reg_lambda=1)\n",
    "    trainer = SoftmaxTrainer(\n",
    "        model1, learning_rate, batch_size, shuffle_dataset,\n",
    "        X_train, Y_train, X_val, Y_val,\n",
    "    )\n",
    "    train_history_reg1, val_history_reg1 = trainer.train(num_epochs)\n",
    "    # You can finish the rest of task 4 below this point.\n",
    "\n",
    "    # Plotting of softmax weights (Task 4b)\n",
    "\n",
    "    weights = np.zeros((28, 280))\n",
    "    weights_w_reg = np.zeros((28, 280))\n",
    "\n",
    "    for i in range(10):\n",
    "        weights[:28, 28*i: 28*(i+1)] = np.reshape(model.w[:784, i], (28, 28))\n",
    "        weights_w_reg[:28, 28*i: 28*(i+1)] = np.reshape(model1.w[:784, i], (28, 28))\n",
    "\n",
    "    plt.imsave(\"task4b_softmax_weight_org.png\",\n",
    "               weights, cmap=\"gray\")\n",
    "    plt.imsave(\"task4b_softmax_weight_w_reg.png\",\n",
    "               weights_w_reg, cmap=\"gray\")"
   ]
  },
  {
   "cell_type": "markdown",
   "metadata": {},
   "source": [
    "### Task 4C"
   ]
  },
  {
   "cell_type": "code",
   "execution_count": 6,
   "metadata": {},
   "outputs": [
    {
     "name": "stdout",
     "output_type": "stream",
     "text": [
      "Early stopping at epoch 12\n",
      "Early stopping at epoch 31\n",
      "Early stopping at epoch 43\n"
     ]
    },
    {
     "data": {
      "image/png": "[encoded data removed]",
      "text/plain": [
       "<Figure size 432x288 with 1 Axes>"
      ]
     },
     "metadata": {
      "needs_background": "light"
     },
     "output_type": "display_data"
    }
   ],
   "source": [
    "### Lambdha = 0.1\n",
    "\n",
    "model2 = SoftmaxModel(l2_reg_lambda=0.1)\n",
    "trainer = SoftmaxTrainer(\n",
    "    model2, learning_rate, batch_size, shuffle_dataset,\n",
    "    X_train, Y_train, X_val, Y_val,\n",
    ")\n",
    "train_history_reg2, val_history_reg2 = trainer.train(num_epochs)\n",
    "\n",
    "### Lambdha = 0.01\n",
    "\n",
    "model3 = SoftmaxModel(l2_reg_lambda=0.01)\n",
    "trainer = SoftmaxTrainer(\n",
    "    model3, learning_rate, batch_size, shuffle_dataset,\n",
    "    X_train, Y_train, X_val, Y_val,\n",
    ")\n",
    "train_history_reg3, val_history_reg3 = trainer.train(num_epochs)\n",
    "\n",
    "### Lambdha = 0.001\n",
    "\n",
    "model4 = SoftmaxModel(l2_reg_lambda=0.001)\n",
    "trainer = SoftmaxTrainer(\n",
    "    model4, learning_rate, batch_size, shuffle_dataset,\n",
    "    X_train, Y_train, X_val, Y_val,\n",
    ")\n",
    "train_history_reg4, val_history_reg4 = trainer.train(num_epochs)\n",
    "\n",
    "plt.ylim([.8, 1])\n",
    "utils.plot_loss(val_history_reg1[\"accuracy\"], \"Lambda=1\")\n",
    "utils.plot_loss(val_history_reg2[\"accuracy\"], \"Lambda=0.1\")\n",
    "utils.plot_loss(val_history_reg3[\"accuracy\"], \"Lambda=0.01\")\n",
    "utils.plot_loss(val_history_reg4[\"accuracy\"], \"Lambda=0.001\")\n",
    "plt.xlabel(\"Number of Training Steps\")\n",
    "plt.ylabel(\"Validation Accuracy\")\n",
    "plt.legend()\n",
    "plt.savefig(\"task4c_L2_accuracy.png\")\n",
    "plt.show()\n",
    "\n",
    "\n",
    "\n"
   ]
  },
  {
   "cell_type": "code",
   "execution_count": 7,
   "metadata": {},
   "outputs": [
    {
     "data": {
      "image/png": "[encoded data removed]",
      "text/plain": [
       "<Figure size 432x288 with 1 Axes>"
      ]
     },
     "metadata": {
      "needs_background": "light"
     },
     "output_type": "display_data"
    }
   ],
   "source": [
    "# Task 4d - Plotting of the l2 norm for each weight\n",
    "l2_lambdas = [1, .1, .01, .001]\n",
    "l2_norms = [np.linalg.norm(model1.w, 2),\n",
    "            np.linalg.norm(model2.w, 2),\n",
    "            np.linalg.norm(model3.w, 2),\n",
    "            np.linalg.norm(model4.w, 2)]\n",
    "\n",
    "plt.plot(l2_lambdas, l2_norms)\n",
    "plt.xlabel(\"Lambda values\")\n",
    "plt.ylabel(\"L2 norm of weights\")\n",
    "plt.savefig(\"task4d_l2_reg_norms.png\")\n",
    "plt.show()"
   ]
  },
  {
   "cell_type": "code",
   "execution_count": null,
   "metadata": {},
   "outputs": [],
   "source": []
  }
 ],
 "metadata": {
  "kernelspec": {
   "display_name": "Python 3",
   "language": "python",
   "name": "python3"
  },
  "language_info": {
   "codemirror_mode": {
    "name": "ipython",
    "version": 3
   },
   "file_extension": ".py",
   "mimetype": "text/x-python",
   "name": "python",
   "nbconvert_exporter": "python",
   "pygments_lexer": "ipython3",
   "version": "3.7.6"
  }
 },
 "nbformat": 4,
 "nbformat_minor": 4
}
