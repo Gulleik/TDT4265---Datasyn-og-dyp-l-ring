{
 "cells": [
  {
   "cell_type": "code",
   "execution_count": 2,
   "id": "swedish-filter",
   "metadata": {},
   "outputs": [
    {
     "name": "stdout",
     "output_type": "stream",
     "text": [
      "Train shape: X: (20000, 784), Y: (20000, 1)\n",
      "Validation shape: X: (10000, 784), Y: (10000, 1)\n",
      "Initializing weight to shape: (785, 64)\n",
      "Initializing weight to shape: (64, 10)\n",
      "Early stopping at epoch 47\n"
     ]
    },
    {
     "ename": "NameError",
     "evalue": "name 'train_history_no_shuffle' is not defined",
     "output_type": "error",
     "traceback": [
      "\u001b[1;31m---------------------------------------------------------------------------\u001b[0m",
      "\u001b[1;31mNameError\u001b[0m                                 Traceback (most recent call last)",
      "\u001b[1;32m<ipython-input-2-7747c30071fb>\u001b[0m in \u001b[0;36m<module>\u001b[1;34m\u001b[0m\n\u001b[0;32m     40\u001b[0m                     \"Task 2 Model\", npoints_to_average=10)\n\u001b[0;32m     41\u001b[0m     utils.plot_loss(\n\u001b[1;32m---> 42\u001b[1;33m         train_history_no_shuffle[\"loss\"], \"Task 2 Model - No dataset shuffling\", npoints_to_average=10)\n\u001b[0m\u001b[0;32m     43\u001b[0m     \u001b[0mplt\u001b[0m\u001b[1;33m.\u001b[0m\u001b[0mylim\u001b[0m\u001b[1;33m(\u001b[0m\u001b[1;33m[\u001b[0m\u001b[1;36m0\u001b[0m\u001b[1;33m,\u001b[0m \u001b[1;36m.4\u001b[0m\u001b[1;33m]\u001b[0m\u001b[1;33m)\u001b[0m\u001b[1;33m\u001b[0m\u001b[1;33m\u001b[0m\u001b[0m\n\u001b[0;32m     44\u001b[0m     \u001b[0mplt\u001b[0m\u001b[1;33m.\u001b[0m\u001b[0msubplot\u001b[0m\u001b[1;33m(\u001b[0m\u001b[1;36m1\u001b[0m\u001b[1;33m,\u001b[0m \u001b[1;36m2\u001b[0m\u001b[1;33m,\u001b[0m \u001b[1;36m2\u001b[0m\u001b[1;33m)\u001b[0m\u001b[1;33m\u001b[0m\u001b[1;33m\u001b[0m\u001b[0m\n",
      "\u001b[1;31mNameError\u001b[0m: name 'train_history_no_shuffle' is not defined"
     ]
    },
    {
     "data": {
      "image/png": "[encoded data removed]",
      "text/plain": [
       "<Figure size 432x288 with 1 Axes>"
      ]
     },
     "metadata": {
      "needs_background": "light"
     },
     "output_type": "display_data"
    }
   ],
   "source": [
    "import utils\n",
    "import matplotlib.pyplot as plt\n",
    "from task2a import pre_process_images, one_hot_encode, SoftmaxModel\n",
    "from task2 import SoftmaxTrainer\n",
    "\n",
    "\n",
    "if __name__ == \"__main__\":\n",
    "    # hyperparameters DO NOT CHANGE IF NOT SPECIFIED IN ASSIGNMENT TEXT\n",
    "    num_epochs = 50\n",
    "    learning_rate = .1\n",
    "    batch_size = 32\n",
    "    neurons_per_layer = [64, 10]\n",
    "    momentum_gamma = .9  # Task 3 hyperparameter\n",
    "    shuffle_data = True\n",
    "\n",
    "    use_improved_sigmoid = False\n",
    "    use_improved_weight_init = False\n",
    "    use_momentum = False\n",
    "\n",
    "    # Load dataset\n",
    "    X_train, Y_train, X_val, Y_val = utils.load_full_mnist()\n",
    "    X_train = pre_process_images(X_train)\n",
    "    X_val = pre_process_images(X_val)\n",
    "    Y_train = one_hot_encode(Y_train, 10)\n",
    "    Y_val = one_hot_encode(Y_val, 10)\n",
    "\n",
    "    model = SoftmaxModel(\n",
    "        neurons_per_layer,\n",
    "        use_improved_sigmoid,\n",
    "        use_improved_weight_init)\n",
    "    trainer = SoftmaxTrainer(\n",
    "        momentum_gamma, use_momentum,\n",
    "        model, learning_rate, batch_size, shuffle_data,\n",
    "        X_train, Y_train, X_val, Y_val,\n",
    "    )\n",
    "    train_history, val_history = trainer.train(num_epochs)\n",
    "\n",
    "    plt.subplot(1, 2, 1)\n",
    "    utils.plot_loss(train_history[\"loss\"],\n",
    "                    \"Task 2 Model\", npoints_to_average=10)\n",
    "    plt.ylim([0, .4])\n",
    "    plt.subplot(1, 2, 2)\n",
    "    plt.ylim([0.85, .95])\n",
    "    utils.plot_loss(val_history[\"accuracy\"], \"Task 2 Model\")\n",
    "    plt.ylabel(\"Validation Accuracy\")\n",
    "    plt.legend()\n",
    "    plt.show()"
   ]
  },
  {
   "cell_type": "code",
   "execution_count": null,
   "id": "civil-archive",
   "metadata": {},
   "outputs": [],
   "source": []
  }
 ],
 "metadata": {
  "kernelspec": {
   "display_name": "Python 3",
   "language": "python",
   "name": "python3"
  },
  "language_info": {
   "codemirror_mode": {
    "name": "ipython",
    "version": 3
   },
   "file_extension": ".py",
   "mimetype": "text/x-python",
   "name": "python",
   "nbconvert_exporter": "python",
   "pygments_lexer": "ipython3",
   "version": "3.7.6"
  }
 },
 "nbformat": 4,
 "nbformat_minor": 5
}
